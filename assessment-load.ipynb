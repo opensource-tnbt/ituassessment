{
 "cells": [
  {
   "cell_type": "markdown",
   "id": "9f69470a",
   "metadata": {},
   "source": [
    "# Time-Series Analysis"
   ]
  },
  {
   "cell_type": "markdown",
   "id": "b5d050bf",
   "metadata": {},
   "source": [
    "## Data Preparation\n",
    "1. If there are data from different instances of a metric (Ex: Cpu0, cpu1, cpu2 ...) from a single node, then we will concatenate by taking the average.\n",
    "2. We just need two columns (timestamp and values)."
   ]
  },
  {
   "cell_type": "code",
   "execution_count": 2,
   "id": "07a78b57",
   "metadata": {},
   "outputs": [],
   "source": [
    "import os\n",
    "import pandas as pd\n",
    "actual = pd.read_csv('/home/sridhar/DataAnalysis/pod18-node4/load/load-2022-06-19', index_col=False)\n",
    "syn = pd.read_csv('/media/sf_UbuntuShare/syndata/node4/load.csv', index_col=False)"
   ]
  },
  {
   "cell_type": "code",
   "execution_count": 27,
   "id": "dc2acb31",
   "metadata": {},
   "outputs": [
    {
     "data": {
      "text/html": [
       "<div>\n",
       "<style scoped>\n",
       "    .dataframe tbody tr th:only-of-type {\n",
       "        vertical-align: middle;\n",
       "    }\n",
       "\n",
       "    .dataframe tbody tr th {\n",
       "        vertical-align: top;\n",
       "    }\n",
       "\n",
       "    .dataframe thead th {\n",
       "        text-align: right;\n",
       "    }\n",
       "</style>\n",
       "<table border=\"1\" class=\"dataframe\">\n",
       "  <thead>\n",
       "    <tr style=\"text-align: right;\">\n",
       "      <th></th>\n",
       "      <th>epoch</th>\n",
       "      <th>shortterm</th>\n",
       "      <th>midterm</th>\n",
       "      <th>longterm</th>\n",
       "    </tr>\n",
       "  </thead>\n",
       "  <tbody>\n",
       "    <tr>\n",
       "      <th>0</th>\n",
       "      <td>1.655651e+09</td>\n",
       "      <td>7.2</td>\n",
       "      <td>16.9</td>\n",
       "      <td>36.9</td>\n",
       "    </tr>\n",
       "    <tr>\n",
       "      <th>1</th>\n",
       "      <td>1.655651e+09</td>\n",
       "      <td>7.2</td>\n",
       "      <td>16.9</td>\n",
       "      <td>36.9</td>\n",
       "    </tr>\n",
       "    <tr>\n",
       "      <th>2</th>\n",
       "      <td>1.655651e+09</td>\n",
       "      <td>7.2</td>\n",
       "      <td>16.9</td>\n",
       "      <td>36.9</td>\n",
       "    </tr>\n",
       "    <tr>\n",
       "      <th>3</th>\n",
       "      <td>1.655651e+09</td>\n",
       "      <td>7.2</td>\n",
       "      <td>16.9</td>\n",
       "      <td>36.9</td>\n",
       "    </tr>\n",
       "    <tr>\n",
       "      <th>4</th>\n",
       "      <td>1.655651e+09</td>\n",
       "      <td>7.2</td>\n",
       "      <td>16.9</td>\n",
       "      <td>36.9</td>\n",
       "    </tr>\n",
       "  </tbody>\n",
       "</table>\n",
       "</div>"
      ],
      "text/plain": [
       "          epoch  shortterm  midterm  longterm\n",
       "0  1.655651e+09        7.2     16.9      36.9\n",
       "1  1.655651e+09        7.2     16.9      36.9\n",
       "2  1.655651e+09        7.2     16.9      36.9\n",
       "3  1.655651e+09        7.2     16.9      36.9\n",
       "4  1.655651e+09        7.2     16.9      36.9"
      ]
     },
     "execution_count": 27,
     "metadata": {},
     "output_type": "execute_result"
    }
   ],
   "source": [
    "actual.head()"
   ]
  },
  {
   "cell_type": "code",
   "execution_count": 28,
   "id": "a19845a0",
   "metadata": {},
   "outputs": [
    {
     "data": {
      "text/html": [
       "<div>\n",
       "<style scoped>\n",
       "    .dataframe tbody tr th:only-of-type {\n",
       "        vertical-align: middle;\n",
       "    }\n",
       "\n",
       "    .dataframe tbody tr th {\n",
       "        vertical-align: top;\n",
       "    }\n",
       "\n",
       "    .dataframe thead th {\n",
       "        text-align: right;\n",
       "    }\n",
       "</style>\n",
       "<table border=\"1\" class=\"dataframe\">\n",
       "  <thead>\n",
       "    <tr style=\"text-align: right;\">\n",
       "      <th></th>\n",
       "      <th>epoch</th>\n",
       "      <th>shortterm</th>\n",
       "      <th>midterm</th>\n",
       "      <th>longterm</th>\n",
       "    </tr>\n",
       "  </thead>\n",
       "  <tbody>\n",
       "    <tr>\n",
       "      <th>0</th>\n",
       "      <td>1655651103</td>\n",
       "      <td>6.61</td>\n",
       "      <td>589.06</td>\n",
       "      <td>686.278667</td>\n",
       "    </tr>\n",
       "    <tr>\n",
       "      <th>1</th>\n",
       "      <td>1655651104</td>\n",
       "      <td>6.61</td>\n",
       "      <td>297.83</td>\n",
       "      <td>589.172667</td>\n",
       "    </tr>\n",
       "    <tr>\n",
       "      <th>2</th>\n",
       "      <td>1655651105</td>\n",
       "      <td>6.61</td>\n",
       "      <td>6.61</td>\n",
       "      <td>492.040000</td>\n",
       "    </tr>\n",
       "    <tr>\n",
       "      <th>3</th>\n",
       "      <td>1655651106</td>\n",
       "      <td>6.61</td>\n",
       "      <td>6.61</td>\n",
       "      <td>394.956667</td>\n",
       "    </tr>\n",
       "    <tr>\n",
       "      <th>4</th>\n",
       "      <td>1655651107</td>\n",
       "      <td>6.61</td>\n",
       "      <td>6.61</td>\n",
       "      <td>297.860000</td>\n",
       "    </tr>\n",
       "  </tbody>\n",
       "</table>\n",
       "</div>"
      ],
      "text/plain": [
       "        epoch  shortterm  midterm    longterm\n",
       "0  1655651103       6.61   589.06  686.278667\n",
       "1  1655651104       6.61   297.83  589.172667\n",
       "2  1655651105       6.61     6.61  492.040000\n",
       "3  1655651106       6.61     6.61  394.956667\n",
       "4  1655651107       6.61     6.61  297.860000"
      ]
     },
     "execution_count": 28,
     "metadata": {},
     "output_type": "execute_result"
    }
   ],
   "source": [
    "syn.head()"
   ]
  },
  {
   "cell_type": "code",
   "execution_count": 3,
   "id": "aa9602f9",
   "metadata": {},
   "outputs": [
    {
     "name": "stdout",
     "output_type": "stream",
     "text": [
      "551\n",
      "7000\n",
      "7000\n"
     ]
    }
   ],
   "source": [
    "diff = actual.shape[0] - syn.shape[0]\n",
    "print(diff)\n",
    "actual = actual.drop(actual.index[(actual.shape[0] - diff):])\n",
    "print(actual.shape[0])\n",
    "print(syn.shape[0])"
   ]
  },
  {
   "cell_type": "code",
   "execution_count": 4,
   "id": "b9612376",
   "metadata": {},
   "outputs": [
    {
     "data": {
      "text/plain": [
       "0      2022-06-19 15:05:03\n",
       "1      2022-06-19 15:05:04\n",
       "2      2022-06-19 15:05:05\n",
       "3      2022-06-19 15:05:06\n",
       "4      2022-06-19 15:05:07\n",
       "               ...        \n",
       "6995   2022-06-19 17:03:22\n",
       "6996   2022-06-19 17:03:23\n",
       "6997   2022-06-19 17:03:24\n",
       "6998   2022-06-19 17:03:25\n",
       "6999   2022-06-19 17:03:26\n",
       "Name: epoch, Length: 7000, dtype: datetime64[ns]"
      ]
     },
     "execution_count": 4,
     "metadata": {},
     "output_type": "execute_result"
    }
   ],
   "source": [
    "actual['epoch'] = pd.to_datetime(actual['epoch'],unit='s')\n",
    "syn['epoch'] = pd.to_datetime(syn['epoch'],unit='s')\n",
    "syn['epoch']"
   ]
  },
  {
   "cell_type": "code",
   "execution_count": 5,
   "id": "baa31d94",
   "metadata": {},
   "outputs": [
    {
     "data": {
      "image/png": "[encoded data removed]",
      "text/plain": [
       "<Figure size 640x480 with 1 Axes>"
      ]
     },
     "metadata": {},
     "output_type": "display_data"
    }
   ],
   "source": [
    "from matplotlib import pyplot\n",
    "actual.plot(x='epoch',y='longterm')\n",
    "pyplot.show()"
   ]
  },
  {
   "cell_type": "code",
   "execution_count": 6,
   "id": "68809a1e",
   "metadata": {},
   "outputs": [
    {
     "data": {
      "image/png": "[encoded data removed]",
      "text/plain": [
       "<Figure size 640x480 with 1 Axes>"
      ]
     },
     "metadata": {},
     "output_type": "display_data"
    }
   ],
   "source": [
    "from matplotlib import pyplot\n",
    "syn.plot(x='epoch',y='longterm')\n",
    "pyplot.show()"
   ]
  },
  {
   "cell_type": "markdown",
   "id": "93371343",
   "metadata": {},
   "source": [
    "## Autocorrelation"
   ]
  },
  {
   "cell_type": "code",
   "execution_count": 7,
   "id": "264554f0",
   "metadata": {},
   "outputs": [],
   "source": [
    "from pandas.plotting import autocorrelation_plot\n",
    "from statsmodels.tsa.arima.model import ARIMA"
   ]
  },
  {
   "cell_type": "code",
   "execution_count": 8,
   "id": "77572aa9",
   "metadata": {},
   "outputs": [
    {
     "ename": "TypeError",
     "evalue": "unsupported operand type(s) for +: 'Timestamp' and 'Timestamp'",
     "output_type": "error",
     "traceback": [
      "\u001b[0;31m---------------------------------------------------------------------------\u001b[0m",
      "\u001b[0;31mTypeError\u001b[0m                                 Traceback (most recent call last)",
      "\u001b[0;32m/tmp/ipykernel_3506/2005615256.py\u001b[0m in \u001b[0;36m<module>\u001b[0;34m\u001b[0m\n\u001b[0;32m----> 1\u001b[0;31m \u001b[0mautocorrelation_plot\u001b[0m\u001b[0;34m(\u001b[0m\u001b[0mactual\u001b[0m\u001b[0;34m)\u001b[0m\u001b[0;34m\u001b[0m\u001b[0;34m\u001b[0m\u001b[0m\n\u001b[0m\u001b[1;32m      2\u001b[0m \u001b[0mpyplot\u001b[0m\u001b[0;34m.\u001b[0m\u001b[0mshow\u001b[0m\u001b[0;34m(\u001b[0m\u001b[0;34m)\u001b[0m\u001b[0;34m\u001b[0m\u001b[0;34m\u001b[0m\u001b[0m\n",
      "\u001b[0;32m~/anaconda3/lib/python3.9/site-packages/pandas/plotting/_misc.py\u001b[0m in \u001b[0;36mautocorrelation_plot\u001b[0;34m(series, ax, **kwargs)\u001b[0m\n\u001b[1;32m    506\u001b[0m     \"\"\"\n\u001b[1;32m    507\u001b[0m     \u001b[0mplot_backend\u001b[0m \u001b[0;34m=\u001b[0m \u001b[0m_get_plot_backend\u001b[0m\u001b[0;34m(\u001b[0m\u001b[0;34m\"matplotlib\"\u001b[0m\u001b[0;34m)\u001b[0m\u001b[0;34m\u001b[0m\u001b[0;34m\u001b[0m\u001b[0m\n\u001b[0;32m--> 508\u001b[0;31m     \u001b[0;32mreturn\u001b[0m \u001b[0mplot_backend\u001b[0m\u001b[0;34m.\u001b[0m\u001b[0mautocorrelation_plot\u001b[0m\u001b[0;34m(\u001b[0m\u001b[0mseries\u001b[0m\u001b[0;34m=\u001b[0m\u001b[0mseries\u001b[0m\u001b[0;34m,\u001b[0m \u001b[0max\u001b[0m\u001b[0;34m=\u001b[0m\u001b[0max\u001b[0m\u001b[0;34m,\u001b[0m \u001b[0;34m**\u001b[0m\u001b[0mkwargs\u001b[0m\u001b[0;34m)\u001b[0m\u001b[0;34m\u001b[0m\u001b[0;34m\u001b[0m\u001b[0m\n\u001b[0m\u001b[1;32m    509\u001b[0m \u001b[0;34m\u001b[0m\u001b[0m\n\u001b[1;32m    510\u001b[0m \u001b[0;34m\u001b[0m\u001b[0m\n",
      "\u001b[0;32m~/anaconda3/lib/python3.9/site-packages/pandas/plotting/_matplotlib/misc.py\u001b[0m in \u001b[0;36mautocorrelation_plot\u001b[0;34m(series, ax, **kwds)\u001b[0m\n\u001b[1;32m    452\u001b[0m         \u001b[0max\u001b[0m\u001b[0;34m.\u001b[0m\u001b[0mset_xlim\u001b[0m\u001b[0;34m(\u001b[0m\u001b[0;36m1\u001b[0m\u001b[0;34m,\u001b[0m \u001b[0mn\u001b[0m\u001b[0;34m)\u001b[0m\u001b[0;34m\u001b[0m\u001b[0;34m\u001b[0m\u001b[0m\n\u001b[1;32m    453\u001b[0m         \u001b[0max\u001b[0m\u001b[0;34m.\u001b[0m\u001b[0mset_ylim\u001b[0m\u001b[0;34m(\u001b[0m\u001b[0;34m-\u001b[0m\u001b[0;36m1.0\u001b[0m\u001b[0;34m,\u001b[0m \u001b[0;36m1.0\u001b[0m\u001b[0;34m)\u001b[0m\u001b[0;34m\u001b[0m\u001b[0;34m\u001b[0m\u001b[0m\n\u001b[0;32m--> 454\u001b[0;31m     \u001b[0mmean\u001b[0m \u001b[0;34m=\u001b[0m \u001b[0mnp\u001b[0m\u001b[0;34m.\u001b[0m\u001b[0mmean\u001b[0m\u001b[0;34m(\u001b[0m\u001b[0mdata\u001b[0m\u001b[0;34m)\u001b[0m\u001b[0;34m\u001b[0m\u001b[0;34m\u001b[0m\u001b[0m\n\u001b[0m\u001b[1;32m    455\u001b[0m     \u001b[0mc0\u001b[0m \u001b[0;34m=\u001b[0m \u001b[0mnp\u001b[0m\u001b[0;34m.\u001b[0m\u001b[0msum\u001b[0m\u001b[0;34m(\u001b[0m\u001b[0;34m(\u001b[0m\u001b[0mdata\u001b[0m \u001b[0;34m-\u001b[0m \u001b[0mmean\u001b[0m\u001b[0;34m)\u001b[0m \u001b[0;34m**\u001b[0m \u001b[0;36m2\u001b[0m\u001b[0;34m)\u001b[0m \u001b[0;34m/\u001b[0m \u001b[0mn\u001b[0m\u001b[0;34m\u001b[0m\u001b[0;34m\u001b[0m\u001b[0m\n\u001b[1;32m    456\u001b[0m \u001b[0;34m\u001b[0m\u001b[0m\n",
      "\u001b[0;32m<__array_function__ internals>\u001b[0m in \u001b[0;36mmean\u001b[0;34m(*args, **kwargs)\u001b[0m\n",
      "\u001b[0;32m~/anaconda3/lib/python3.9/site-packages/numpy/core/fromnumeric.py\u001b[0m in \u001b[0;36mmean\u001b[0;34m(a, axis, dtype, out, keepdims, where)\u001b[0m\n\u001b[1;32m   3438\u001b[0m             \u001b[0;32mreturn\u001b[0m \u001b[0mmean\u001b[0m\u001b[0;34m(\u001b[0m\u001b[0maxis\u001b[0m\u001b[0;34m=\u001b[0m\u001b[0maxis\u001b[0m\u001b[0;34m,\u001b[0m \u001b[0mdtype\u001b[0m\u001b[0;34m=\u001b[0m\u001b[0mdtype\u001b[0m\u001b[0;34m,\u001b[0m \u001b[0mout\u001b[0m\u001b[0;34m=\u001b[0m\u001b[0mout\u001b[0m\u001b[0;34m,\u001b[0m \u001b[0;34m**\u001b[0m\u001b[0mkwargs\u001b[0m\u001b[0;34m)\u001b[0m\u001b[0;34m\u001b[0m\u001b[0;34m\u001b[0m\u001b[0m\n\u001b[1;32m   3439\u001b[0m \u001b[0;34m\u001b[0m\u001b[0m\n\u001b[0;32m-> 3440\u001b[0;31m     return _methods._mean(a, axis=axis, dtype=dtype,\n\u001b[0m\u001b[1;32m   3441\u001b[0m                           out=out, **kwargs)\n\u001b[1;32m   3442\u001b[0m \u001b[0;34m\u001b[0m\u001b[0m\n",
      "\u001b[0;32m~/anaconda3/lib/python3.9/site-packages/numpy/core/_methods.py\u001b[0m in \u001b[0;36m_mean\u001b[0;34m(a, axis, dtype, out, keepdims, where)\u001b[0m\n\u001b[1;32m    177\u001b[0m             \u001b[0mis_float16_result\u001b[0m \u001b[0;34m=\u001b[0m \u001b[0;32mTrue\u001b[0m\u001b[0;34m\u001b[0m\u001b[0;34m\u001b[0m\u001b[0m\n\u001b[1;32m    178\u001b[0m \u001b[0;34m\u001b[0m\u001b[0m\n\u001b[0;32m--> 179\u001b[0;31m     \u001b[0mret\u001b[0m \u001b[0;34m=\u001b[0m \u001b[0mumr_sum\u001b[0m\u001b[0;34m(\u001b[0m\u001b[0marr\u001b[0m\u001b[0;34m,\u001b[0m \u001b[0maxis\u001b[0m\u001b[0;34m,\u001b[0m \u001b[0mdtype\u001b[0m\u001b[0;34m,\u001b[0m \u001b[0mout\u001b[0m\u001b[0;34m,\u001b[0m \u001b[0mkeepdims\u001b[0m\u001b[0;34m,\u001b[0m \u001b[0mwhere\u001b[0m\u001b[0;34m=\u001b[0m\u001b[0mwhere\u001b[0m\u001b[0;34m)\u001b[0m\u001b[0;34m\u001b[0m\u001b[0;34m\u001b[0m\u001b[0m\n\u001b[0m\u001b[1;32m    180\u001b[0m     \u001b[0;32mif\u001b[0m \u001b[0misinstance\u001b[0m\u001b[0;34m(\u001b[0m\u001b[0mret\u001b[0m\u001b[0;34m,\u001b[0m \u001b[0mmu\u001b[0m\u001b[0;34m.\u001b[0m\u001b[0mndarray\u001b[0m\u001b[0;34m)\u001b[0m\u001b[0;34m:\u001b[0m\u001b[0;34m\u001b[0m\u001b[0;34m\u001b[0m\u001b[0m\n\u001b[1;32m    181\u001b[0m         ret = um.true_divide(\n",
      "\u001b[0;31mTypeError\u001b[0m: unsupported operand type(s) for +: 'Timestamp' and 'Timestamp'"
     ]
    },
    {
     "data": {
      "image/png": "[encoded data removed]",
      "text/plain": [
       "<Figure size 640x480 with 1 Axes>"
      ]
     },
     "metadata": {},
     "output_type": "display_data"
    }
   ],
   "source": [
    "autocorrelation_plot(actual)\n",
    "pyplot.show()"
   ]
  },
  {
   "cell_type": "code",
   "execution_count": null,
   "id": "76640965",
   "metadata": {},
   "outputs": [],
   "source": [
    "autocorrelation_plot(syn)\n",
    "pyplot.show()"
   ]
  },
  {
   "cell_type": "markdown",
   "id": "fadd1df4",
   "metadata": {},
   "source": [
    "## ARIMA"
   ]
  },
  {
   "cell_type": "code",
   "execution_count": null,
   "id": "95a925f5",
   "metadata": {},
   "outputs": [],
   "source": [
    "c1_copy = actual.copy(deep=True)\n",
    "c2_copy = syn.copy(deep=True)"
   ]
  },
  {
   "cell_type": "code",
   "execution_count": null,
   "id": "f7b197a9",
   "metadata": {},
   "outputs": [],
   "source": [
    "c1_copy.index = c1_copy.index.to_period('s')\n",
    "c1_copy.index"
   ]
  },
  {
   "cell_type": "code",
   "execution_count": null,
   "id": "d1eed816",
   "metadata": {},
   "outputs": [],
   "source": [
    "#concat_two.index = concat_two.index.to_timestamp(freq='s')\n",
    "c2_copy.index = c2_copy.index.to_period('s')\n",
    "c2_copy.index"
   ]
  },
  {
   "cell_type": "code",
   "execution_count": null,
   "id": "95124eb2",
   "metadata": {},
   "outputs": [],
   "source": [
    "model = ARIMA(c2_copy, order=(1,1,0))\n",
    "model_fit = model.fit()\n",
    "print(model_fit.summary())"
   ]
  },
  {
   "cell_type": "code",
   "execution_count": null,
   "id": "bd8314cf",
   "metadata": {},
   "outputs": [],
   "source": [
    "model = ARIMA(c1_copy, order=(1,1,0))\n",
    "model_fit = model.fit()\n",
    "print(model_fit.summary())"
   ]
  },
  {
   "cell_type": "markdown",
   "id": "6b5771d3",
   "metadata": {},
   "source": [
    "## Histograms"
   ]
  },
  {
   "cell_type": "code",
   "execution_count": 33,
   "id": "ef9daa03",
   "metadata": {},
   "outputs": [
    {
     "data": {
      "text/plain": [
       "array([[<AxesSubplot:title={'center':'longterm'}>]], dtype=object)"
      ]
     },
     "execution_count": 33,
     "metadata": {},
     "output_type": "execute_result"
    },
    {
     "data": {
      "image/png": "[encoded data removed]",
      "text/plain": [
       "<Figure size 640x480 with 1 Axes>"
      ]
     },
     "metadata": {},
     "output_type": "display_data"
    }
   ],
   "source": [
    "actual.hist(column=\"longterm\", bins=20)"
   ]
  },
  {
   "cell_type": "code",
   "execution_count": 34,
   "id": "c4d30477",
   "metadata": {},
   "outputs": [
    {
     "data": {
      "text/plain": [
       "array([[<AxesSubplot:title={'center':'longterm'}>]], dtype=object)"
      ]
     },
     "execution_count": 34,
     "metadata": {},
     "output_type": "execute_result"
    },
    {
     "data": {
      "image/png": "[encoded data removed]",
      "text/plain": [
       "<Figure size 640x480 with 1 Axes>"
      ]
     },
     "metadata": {},
     "output_type": "display_data"
    }
   ],
   "source": [
    "syn.hist(column=\"longterm\", bins=20)"
   ]
  },
  {
   "cell_type": "markdown",
   "id": "700d9d01",
   "metadata": {},
   "source": [
    "# Compute Probabilities"
   ]
  },
  {
   "cell_type": "code",
   "execution_count": null,
   "id": "740fa874",
   "metadata": {},
   "outputs": [],
   "source": [
    "import seaborn as sns\n",
    "concat_one['value'] = concat_one['value'].round(decimals=0)\n",
    "probabilities_one = concat_one['value'].value_counts(normalize=True)\n",
    "sns.barplot(x=probabilities_one.index, y=probabilities_one.values, color='blue')\n",
    "#probabilities"
   ]
  },
  {
   "cell_type": "code",
   "execution_count": null,
   "id": "4fecd994",
   "metadata": {},
   "outputs": [],
   "source": [
    "import seaborn as sns\n",
    "concat_two['value'] = concat_two['value'].round(decimals=0)\n",
    "probabilities_two = concat_two['value'].value_counts(normalize=True)\n",
    "sns.barplot(x=probabilities_two.index, y=probabilities_two.values, color='blue')"
   ]
  },
  {
   "cell_type": "markdown",
   "id": "4fcfe0f0",
   "metadata": {},
   "source": [
    "# Comparative Analysis"
   ]
  },
  {
   "cell_type": "markdown",
   "id": "ae4a8fe7",
   "metadata": {},
   "source": [
    "## Dynamic Time Warping"
   ]
  },
  {
   "cell_type": "markdown",
   "id": "b7765d1c",
   "metadata": {},
   "source": [
    "## Interpretation\n",
    "Dynamic time warping is a seminal time series comparison technique.The objective of time series comparison methods is to produce a distance metric between two input time series. The similarity or dissimilarity of two-time series is typically calculated by converting the data into vectors and calculating the Euclidean distance between those points in vector space."
   ]
  },
  {
   "cell_type": "code",
   "execution_count": 11,
   "id": "d2a9001d",
   "metadata": {},
   "outputs": [],
   "source": [
    "import numpy as np \n",
    "from scipy.spatial.distance import euclidean\n",
    "from fastdtw import fastdtw\n",
    "#x = concat_one.to_numpy()\n",
    "#y = concat_two.to_numpy()\n",
    "#distance, path = fastdtw(x,y, dist=euclidean)\n",
    "#print(distance)"
   ]
  },
  {
   "cell_type": "code",
   "execution_count": 9,
   "id": "4456a8bf",
   "metadata": {},
   "outputs": [
    {
     "name": "stdout",
     "output_type": "stream",
     "text": [
      "539\n"
     ]
    },
    {
     "data": {
      "text/plain": [
       "7000"
      ]
     },
     "execution_count": 9,
     "metadata": {},
     "output_type": "execute_result"
    }
   ],
   "source": [
    "actual2 = pd.read_csv('/home/sridhar/DataAnalysis/pod18-node5/load/load-2022-06-19', index_col=False) \n",
    "diff = actual2.shape[0] - syn.shape[0]\n",
    "print(diff)\n",
    "actual2 = actual2.drop(actual2.index[(actual2.shape[0] - diff):])\n",
    "actual2.shape[0]"
   ]
  },
  {
   "cell_type": "code",
   "execution_count": 12,
   "id": "2beb0134",
   "metadata": {},
   "outputs": [
    {
     "name": "stdout",
     "output_type": "stream",
     "text": [
      "7397003.302666678\n"
     ]
    }
   ],
   "source": [
    "from scipy.spatial.distance import chebyshev, cityblock\n",
    "values_one = actual[['longterm']].to_numpy()\n",
    "values_two = syn[['longterm']].to_numpy()\n",
    "dist, path = fastdtw(values_one, values_two, dist=euclidean)\n",
    "print(dist)"
   ]
  },
  {
   "cell_type": "code",
   "execution_count": 13,
   "id": "ed57d939",
   "metadata": {},
   "outputs": [
    {
     "name": "stdout",
     "output_type": "stream",
     "text": [
      "3769229.299999991\n"
     ]
    }
   ],
   "source": [
    "from scipy.spatial.distance import chebyshev, cityblock\n",
    "values_one = actual[['longterm']].to_numpy()\n",
    "values_two = actual2[['longterm']].to_numpy()\n",
    "dist, path = fastdtw(values_one, values_two, dist=euclidean)\n",
    "print(dist)"
   ]
  },
  {
   "cell_type": "markdown",
   "id": "1a6cccb1",
   "metadata": {},
   "source": [
    "# Wasserstein Distance"
   ]
  },
  {
   "cell_type": "markdown",
   "id": "2fb0612c",
   "metadata": {},
   "source": [
    "## Interpretation\n",
    "Wasserstein distance provide a meaningful and smooth representation of the distance between distributions. They measure the minimal effort required to reconfigure the probability mass of one distribution in order to recover the other distribution.\n",
    "Expectation: Less than 2."
   ]
  },
  {
   "cell_type": "code",
   "execution_count": 14,
   "id": "c5e9c598",
   "metadata": {},
   "outputs": [
    {
     "data": {
      "text/plain": [
       "666.5970673333333"
      ]
     },
     "execution_count": 14,
     "metadata": {},
     "output_type": "execute_result"
    }
   ],
   "source": [
    "from scipy.stats import wasserstein_distance\n",
    "wd = wasserstein_distance (actual['longterm'], syn['longterm'])\n",
    "wd"
   ]
  },
  {
   "cell_type": "code",
   "execution_count": 15,
   "id": "36841447",
   "metadata": {},
   "outputs": [
    {
     "data": {
      "text/plain": [
       "82.6613057142857"
      ]
     },
     "execution_count": 15,
     "metadata": {},
     "output_type": "execute_result"
    }
   ],
   "source": [
    "wd2 = wasserstein_distance (actual['longterm'], actual2['longterm'])\n",
    "wd2"
   ]
  },
  {
   "cell_type": "markdown",
   "id": "c2fff2b3",
   "metadata": {},
   "source": [
    "# Maximum Mean Discrepancy"
   ]
  },
  {
   "cell_type": "markdown",
   "id": "3b533aed",
   "metadata": {},
   "source": [
    "## Reference\n",
    "https://www.kaggle.com/code/onurtunali/maximum-mean-discrepancy/notebook"
   ]
  },
  {
   "cell_type": "markdown",
   "id": "2539bbc4",
   "metadata": {},
   "source": [
    "## Interpretation\n",
    "MMD is defined by the idea of representing distances between distributions as distances between mean embeddings of features. Two distributions are similar if their moments are similar. By applying a kernel, we can transform the variable such that all moments (first, second, third etc.) are computed. In the latent space we can compute the difference between the moments and average it. This gives a measure of the similarity/dissimilarity between the datasets."
   ]
  },
  {
   "cell_type": "code",
   "execution_count": null,
   "id": "b58e4b2c",
   "metadata": {},
   "outputs": [],
   "source": [
    "import torch\n",
    "\n",
    "def MMD(x, y, kernel):\n",
    "    \"\"\"Emprical maximum mean discrepancy. The lower the result\n",
    "       the more evidence that distributions are the same.\n",
    "\n",
    "    Args:\n",
    "        x: first sample, distribution P\n",
    "        y: second sample, distribution Q\n",
    "        kernel: kernel type such as \"multiscale\" or \"rbf\"\n",
    "    \"\"\"\n",
    "    xx, yy, zz = torch.mm(x, x.t()), torch.mm(y, y.t()), torch.mm(x, y.t())\n",
    "    rx = (xx.diag().unsqueeze(0).expand_as(xx))\n",
    "    ry = (yy.diag().unsqueeze(0).expand_as(yy))\n",
    "    \n",
    "    dxx = rx.t() + rx - 2. * xx # Used for A in (1)\n",
    "    dyy = ry.t() + ry - 2. * yy # Used for B in (1)\n",
    "    dxy = rx.t() + ry - 2. * zz # Used for C in (1)\n",
    "    \n",
    "    XX, YY, XY = (torch.zeros(xx.shape).to(device),\n",
    "                  torch.zeros(xx.shape).to(device),\n",
    "                  torch.zeros(xx.shape).to(device))\n",
    "    \n",
    "    if kernel == \"multiscale\":\n",
    "        \n",
    "        bandwidth_range = [0.2, 0.5, 0.9, 1.3]\n",
    "        for a in bandwidth_range:\n",
    "            XX += a**2 * (a**2 + dxx)**-1\n",
    "            YY += a**2 * (a**2 + dyy)**-1\n",
    "            XY += a**2 * (a**2 + dxy)**-1\n",
    "            \n",
    "    if kernel == \"rbf\":\n",
    "      \n",
    "        bandwidth_range = [10, 15, 20, 50]\n",
    "        for a in bandwidth_range:\n",
    "            XX += torch.exp(-0.5*dxx/a)\n",
    "            YY += torch.exp(-0.5*dyy/a)\n",
    "            XY += torch.exp(-0.5*dxy/a)\n",
    "      \n",
    "      \n",
    "\n",
    "    return torch.mean(XX + YY - 2. * XY)"
   ]
  },
  {
   "cell_type": "code",
   "execution_count": null,
   "id": "d9af1425",
   "metadata": {},
   "outputs": [],
   "source": [
    "import numpy as np\n",
    "import matplotlib.pyplot as plt\n",
    "from scipy.stats import multivariate_normal\n",
    "from scipy.stats import dirichlet \n",
    "from torch.distributions.multivariate_normal import MultivariateNormal\n",
    "\n",
    "device = \"cpu\"\n",
    "\n",
    "m = 20 # sample size\n",
    "x_mean = torch.zeros(2)+1\n",
    "y_mean = torch.zeros(2)\n",
    "x_cov = 2*torch.eye(2) # IMPORTANT: Covariance matrices must be positive definite\n",
    "y_cov = 3*torch.eye(2) - 1\n",
    "\n",
    "px = MultivariateNormal(x_mean, x_cov)\n",
    "qy = MultivariateNormal(y_mean, y_cov)\n",
    "#x = px.sample([m]).to(device)\n",
    "#y = qy.sample([m]).to(device)\n",
    "\n",
    "x = torch.from_numpy(concat_one.values).float().to(device)\n",
    "y = torch.from_numpy(concat_two.values).float().to(device)\n",
    "print(x.t())\n",
    "print(y.t())\n",
    "print(type(x))\n",
    "result = MMD(x, y, kernel=\"multiscale\")\n",
    "\n",
    "print(f\"MMD result of X and Y is {result.item()}\")"
   ]
  },
  {
   "cell_type": "markdown",
   "id": "0d6ea3ae",
   "metadata": {},
   "source": [
    "# Root mean square difference"
   ]
  },
  {
   "cell_type": "markdown",
   "id": "24a16d7c",
   "metadata": {},
   "source": [
    "## Interpretation\n",
    "The closer RMSE is to 0, the more similar the generated data is to the real-data. But RMSE is returned on the same scale as the target we are emulating for and therefore there isn’t a general rule for how to interpret ranges of values.\n",
    "For CPU usage,  If it is more than 30, then we may have to relook at it."
   ]
  },
  {
   "cell_type": "code",
   "execution_count": 16,
   "id": "de532612",
   "metadata": {},
   "outputs": [],
   "source": [
    "from sklearn.metrics import mean_squared_error\n",
    "rmse = mean_squared_error(actual['longterm'], syn['longterm'], squared = False)"
   ]
  },
  {
   "cell_type": "code",
   "execution_count": 17,
   "id": "377e78e9",
   "metadata": {},
   "outputs": [
    {
     "name": "stdout",
     "output_type": "stream",
     "text": [
      "1753.776630680174\n"
     ]
    }
   ],
   "source": [
    "print(rmse)"
   ]
  },
  {
   "cell_type": "code",
   "execution_count": 18,
   "id": "cbb6d64f",
   "metadata": {},
   "outputs": [
    {
     "data": {
      "text/plain": [
       "118.39800115735547"
      ]
     },
     "execution_count": 18,
     "metadata": {},
     "output_type": "execute_result"
    }
   ],
   "source": [
    "rmse2 = mean_squared_error(actual['longterm'], actual2['longterm'], squared = False)\n",
    "rmse2"
   ]
  },
  {
   "cell_type": "code",
   "execution_count": null,
   "id": "3a8a91b1",
   "metadata": {},
   "outputs": [],
   "source": [
    "rmse3 = mean_squared_error(concat_one.sort_values(by='value')['value'], concat_two.sort_values(by='value')['value'], squared = False)\n",
    "print(rmse3)"
   ]
  },
  {
   "cell_type": "markdown",
   "id": "c59358b1",
   "metadata": {},
   "source": [
    "# Mutual Information"
   ]
  },
  {
   "cell_type": "markdown",
   "id": "82a7aab2",
   "metadata": {},
   "source": [
    "## Interpretation\n",
    "Mutual information describes relationships in terms of uncertainty. The mutual information (MI) between two quantities is a measure of the extent to which knowledge of one quantity reduces uncertainty about the other. High mutual information indicates a large reduction in uncertainty; low mutual information indicates a small reduction; and zero mutual information between two random variables means the variables are independent. The least possible mutual information between quantities is 0.0. When MI is zero, the quantities are independent: neither can tell you anything about the other. Conversely, in theory there's no upper bound to what MI can be. In practice though values above 2.0 or so are uncommon. (Mutual information is a logarithmic quantity, so it increases very slowly.)\n",
    "\n",
    "Should be 1.5+"
   ]
  },
  {
   "cell_type": "code",
   "execution_count": null,
   "id": "20e1bf93",
   "metadata": {},
   "outputs": [],
   "source": [
    "from sklearn.feature_selection import mutual_info_regression\n",
    "\n",
    "def make_mi_scores(X, y, discrete_features):\n",
    "    mi_scores = mutual_info_regression(X, y, discrete_features=discrete_features)\n",
    "    mi_scores = pd.Series(mi_scores, name=\"MI Scores\", index=X.columns)\n",
    "    mi_scores = mi_scores.sort_values(ascending=False)\n",
    "    return mi_scores"
   ]
  },
  {
   "cell_type": "code",
   "execution_count": null,
   "id": "030f953f",
   "metadata": {},
   "outputs": [],
   "source": [
    "discrete_features = concat_one.dtypes == int"
   ]
  },
  {
   "cell_type": "code",
   "execution_count": null,
   "id": "b13c38bc",
   "metadata": {},
   "outputs": [],
   "source": [
    "mi_scores = make_mi_scores(concat_one, concat_two['value'], discrete_features)"
   ]
  },
  {
   "cell_type": "code",
   "execution_count": null,
   "id": "7b5ca42b",
   "metadata": {},
   "outputs": [],
   "source": [
    "print(mi_scores)"
   ]
  },
  {
   "cell_type": "code",
   "execution_count": null,
   "id": "f6a5c4f4",
   "metadata": {},
   "outputs": [],
   "source": []
  }
 ],
 "metadata": {
  "kernelspec": {
   "display_name": "Python 3 (ipykernel)",
   "language": "python",
   "name": "python3"
  },
  "language_info": {
   "codemirror_mode": {
    "name": "ipython",
    "version": 3
   },
   "file_extension": ".py",
   "mimetype": "text/x-python",
   "name": "python",
   "nbconvert_exporter": "python",
   "pygments_lexer": "ipython3",
   "version": "3.9.13"
  }
 },
 "nbformat": 4,
 "nbformat_minor": 5
}
